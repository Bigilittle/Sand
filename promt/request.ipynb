{
 "cells": [
  {
   "cell_type": "code",
   "execution_count": 1,
   "metadata": {},
   "outputs": [],
   "source": [
    "import requests\n",
    "import json"
   ]
  },
  {
   "cell_type": "code",
   "execution_count": null,
   "metadata": {},
   "outputs": [],
   "source": [
    "curl http://localhost:1234/v1/chat/completions \\\n",
    "  -H \"Content-Type: application/json\" \\\n",
    "  -d '{\n",
    "    \"model\": \"meta-llama-3.1-8b-instruct\",\n",
    "    \"messages\": [\n",
    "      { \"role\": \"system\", \"content\": \"Always answer in rhymes.\" },\n",
    "      { \"role\": \"user\", \"content\": \"Привет, как дела?\" }\n",
    "    ],\n",
    "    \"temperature\": 0.7,\n",
    "    \"max_tokens\": 100,\n",
    "    \"stream\": false\n",
    "}'\n"
   ]
  },
  {
   "cell_type": "code",
   "execution_count": 2,
   "metadata": {},
   "outputs": [],
   "source": [
    "import requests\n",
    "import json\n",
    "\n",
    "# URL вашего сервера LM Studio\n",
    "API_URL = \"http://localhost:1234/v1/chat/completions\"\n",
    "\n",
    "# Заголовки запроса\n",
    "headers = {\n",
    "    \"Content-Type\": \"application/json\",\n",
    "}\n",
    "\n",
    "# Тело запроса\n",
    "payload = {\n",
    "    \"model\": \"meta-llama-3.1-8b-instruct\",\n",
    "    \"messages\": [\n",
    "        { \"role\": \"system\", \"content\": \"Always answer in rhymes.\" },\n",
    "        { \"role\": \"user\", \"content\": \"Привет, как дела?\" }\n",
    "    ],\n",
    "    \"temperature\": 0.7,\n",
    "    \"max_tokens\": 100,\n",
    "    \"stream\": False\n",
    "}\n"
   ]
  },
  {
   "cell_type": "code",
   "execution_count": 3,
   "metadata": {},
   "outputs": [
    {
     "name": "stdout",
     "output_type": "stream",
     "text": [
      "Ответ модели:\n",
      "Здравствуйте, все хорошо и свет,\n",
      "Дела мои тихо, без суеты и зноя в ночь.\n",
      "Я готов помочь и ответить на вопросы твои с радостью и свет,\n",
      "И вместе мы рассмотрим темы и найдем решения прямо сейчас.\n"
     ]
    }
   ],
   "source": [
    "\n",
    "# Отправка POST-запроса\n",
    "response = requests.post(API_URL, headers=headers, data=json.dumps(payload))\n",
    "\n",
    "# Разбор ответа JSON\n",
    "result = response.json()\n",
    "\n",
    "# Извлечение сгенерированного текста\n",
    "choices = result.get(\"choices\", [])\n",
    "if choices:\n",
    "    generated_text = choices[0].get(\"message\", {}).get(\"content\", \"\")\n",
    "    print(\"Ответ модели:\")\n",
    "    print(generated_text)\n",
    "else:\n",
    "    print(\"Нет доступных ответов в ответе сервера.\")"
   ]
  }
 ],
 "metadata": {
  "kernelspec": {
   "display_name": "myenv",
   "language": "python",
   "name": "python3"
  },
  "language_info": {
   "codemirror_mode": {
    "name": "ipython",
    "version": 3
   },
   "file_extension": ".py",
   "mimetype": "text/x-python",
   "name": "python",
   "nbconvert_exporter": "python",
   "pygments_lexer": "ipython3",
   "version": "3.10.11"
  }
 },
 "nbformat": 4,
 "nbformat_minor": 2
}
